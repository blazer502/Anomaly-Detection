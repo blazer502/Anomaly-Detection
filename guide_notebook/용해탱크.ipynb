{
 "cells": [
  {
   "cell_type": "markdown",
   "metadata": {},
   "source": [
    "## 단계 1. 라이브러리 및 데이터 불러오기"
   ]
  },
  {
   "cell_type": "markdown",
   "metadata": {},
   "source": [
    "### 1-1 기본적인 라이브러리 불러오기"
   ]
  },
  {
   "cell_type": "markdown",
   "metadata": {},
   "source": [
    "### 기본 패키지\n",
    "- os 패키지\n",
    " + os 모듈은 운영체제와 상호작용하기 위한 함수를 제공하는 패키지\n",
    " + ex)   \n",
    "   os.getcwd() : 현재 working directory 반환   \n",
    "   os.chdir('경로') : '경로'에 원하는 경로를 넣으면 working directory로 변경\n",
    "   \n",
    "- pandas 패키지\n",
    " + 데이터 분석 시 가장 많이 쓰이는 패키지로, 표 데이터를 다루기 위한 시리즈(Series)클래스와 데이터프레임(DataFrame)클래스를 제공\n",
    " + ex)    \n",
    "   pd.read_csv('파일명.csv', encoding='코드') : 파일명에 원하는 데이터의 파일명을 입력하면 해당 csv 데이터를 불러옴. 한글 포함 파일의 경우 '코드'에 'utf-8'(기본), 'cp949'(엑셀 저장, 수정 후)를 넣음   \n",
    "   \n",
    "- numpy 패키지\n",
    " + 과학 계산을 위한 라이브러리로, 다차원 배열을 처리하는데 여러 유용한 기능을 제공   \n",
    " + ex)   \n",
    "   np.array(data) : numpy 배열 생성   \n",
    "   \n",
    "- matplotlib 패키지\n",
    " + 파이썬에서 자료를 차트(chart)나 플롯(plot)으로 시각화(visualization)하는 패키지\n",
    " + pyplot은 matplotlib에서 지원하는 모듈 중 하나\n",
    "   * 사용 환경 인터페이스(state-machine interface)를 제공\n",
    "   * pyplot의 인터페이스는 겉으로 드러나지 않으면서 자동으로 figure와 axes를 생성하며, 정의된 플롯을 얻을 수 있도록 만들어줌\n",
    "   \n",
    "- %matplotlib inline \n",
    " + 플롯 결과를 notebook 문서에 저장하여 notebook을 실행한 브라우저에서 바로 그림을 볼 수 있게 해주는 기능(Jupyter Notebook에서 사용)\n",
    "   \n",
    "   \n",
    "- import package as a\n",
    " + package를 불러오고, 해당 패키지를 a라는 이름으로 사용한다는 의미"
   ]
  },
  {
   "cell_type": "code",
   "execution_count": 2,
   "metadata": {},
   "outputs": [],
   "source": [
    "import os\n",
    "import pandas as pd\n",
    "import numpy as np\n",
    "import matplotlib.pyplot as plt\n",
    "%matplotlib inline "
   ]
  },
  {
   "cell_type": "markdown",
   "metadata": {},
   "source": [
    "### 1-2 LSTM을 위한 라이브러리 불러오기"
   ]
  },
  {
   "cell_type": "markdown",
   "metadata": {},
   "source": [
    "- from datetime import datetime : datetime 모듈에서 datetime 클래스 불러오기 (날짜와 시각을 합한 개념인 '일시'를 나타낼 수 있음)   \n",
    "\n",
    "\n",
    "- sklearn 패키지 : 데이터 과학 연산의 핵심 패키지로, 데이터 전처리, 지도 및 비지도 학습, 모델 선택, 검증, 오차 기준에 필요한 모든 기능 제공\n",
    " + preprocessing : 전처리를 위한 패키지\n",
    " + sklearn.metric - mean_squared_error : 모델 센택 및 검증, 평균제곱오차   \n",
    " \n",
    " \n",
    "- keras 패키지 : 파이썬 기반 딥러닝 라이브러리로, 처음 딥러닝을 시작하는 사용자에게 편리하고 직관적인 API. Tensorflow, Theano와 같이 사용 가능   \n",
    " 케라스에서는 층(layer)을 조합하여 모델(model)을 만듦. 모델은 (일반적으로) 층의 그래프. 그 중에서 가장 간단한 형태의 모델은 레이어들을 선형으로 쌓는 Sequential Model. 케라스에서는 add 함수를 사용하여 층을 쌓음.\n",
    " + Sequential : sequence of layers 네트워크를 사용하기 위한 wrapper class. compile(), fit(), evaluate()와 같은 메서드를 사용해서 Keras 모델 인터페이스를 구현하게 해줌 (Sequential은 순차적으로 레이어 층을 더해주는 순차모델이며, 만들기가 쉬움)\n",
    " + Layers : Keras의 Layer 클래스는 다양한 neural network layers를 제공해줌. fully connected layers, max pool layers, activation layers와 같은 레이어를 사용 가능, 단순히 모델의 add() 함수만을 이용하여 레이어들을 사용 가능.\n",
    " + Dense : Dense는 keras의 클래스로 nn레이어의 노드를 만듦\n",
    " + LSTM : LSTM 층을 추가하여 모델을 만들기 위해 불러오기\n",
    " + EarlyStopping : loss가 가장 적은 값에서 학습을 멈추기 위한 모듈"
   ]
  },
  {
   "cell_type": "code",
   "execution_count": 3,
   "metadata": {},
   "outputs": [],
   "source": [
    "from datetime import datetime\n",
    "from sklearn import preprocessing\n",
    "from sklearn.model_selection import train_test_split\n",
    "from sklearn.metrics import *\n",
    "from imblearn.over_sampling import SMOTE\n",
    "\n",
    "from keras.models import Sequential\n",
    "from keras.layers import Dense, LSTM\n",
    "from keras.preprocessing import sequence\n",
    "from keras.utils import np_utils\n",
    "from keras.callbacks import EarlyStopping, ModelCheckpoint"
   ]
  },
  {
   "cell_type": "markdown",
   "metadata": {},
   "source": [
    "### 1-3 분석 데이터 불러오기"
   ]
  },
  {
   "cell_type": "markdown",
   "metadata": {},
   "source": [
    "- os.chdir('path') : 경로를 지정해주는 함수   \n",
    " + path에는 데이터를 불러오거나 저장할 directory를 넣기(/ 혹은 \\\\\\로 접근)"
   ]
  },
  {
   "cell_type": "code",
   "execution_count": 1,
   "metadata": {},
   "outputs": [
    {
     "name": "stdout",
     "output_type": "stream",
     "text": [
      "Collecting datetime\n",
      "  Downloading DateTime-4.3-py2.py3-none-any.whl (60 kB)\n",
      "Requirement already satisfied: zope.interface in c:\\programdata\\anaconda3\\lib\\site-packages (from datetime) (5.1.2)\n",
      "Requirement already satisfied: pytz in c:\\programdata\\anaconda3\\lib\\site-packages (from datetime) (2020.1)\n",
      "Requirement already satisfied: setuptools in c:\\programdata\\anaconda3\\lib\\site-packages (from zope.interface->datetime) (50.3.1.post20201107)\n",
      "Installing collected packages: datetime\n",
      "Successfully installed datetime-4.3\n",
      "Collecting sklearn\n",
      "  Downloading sklearn-0.0.tar.gz (1.1 kB)\n",
      "Requirement already satisfied: scikit-learn in c:\\programdata\\anaconda3\\lib\\site-packages (from sklearn) (0.23.2)\n",
      "Requirement already satisfied: joblib>=0.11 in c:\\programdata\\anaconda3\\lib\\site-packages (from scikit-learn->sklearn) (0.17.0)\n",
      "Requirement already satisfied: numpy>=1.13.3 in c:\\programdata\\anaconda3\\lib\\site-packages (from scikit-learn->sklearn) (1.19.2)\n",
      "Requirement already satisfied: scipy>=0.19.1 in c:\\programdata\\anaconda3\\lib\\site-packages (from scikit-learn->sklearn) (1.5.2)\n",
      "Requirement already satisfied: threadpoolctl>=2.0.0 in c:\\programdata\\anaconda3\\lib\\site-packages (from scikit-learn->sklearn) (2.1.0)\n",
      "Building wheels for collected packages: sklearn\n",
      "  Building wheel for sklearn (setup.py): started\n",
      "  Building wheel for sklearn (setup.py): finished with status 'done'\n",
      "  Created wheel for sklearn: filename=sklearn-0.0-py2.py3-none-any.whl size=1321 sha256=d33d878cbc6d8452a13836fa877463847d36bf603e19eaae86216dd5a5904216\n",
      "  Stored in directory: c:\\users\\user\\appdata\\local\\pip\\cache\\wheels\\22\\0b\\40\\fd3f795caaa1fb4c6cb738bc1f56100be1e57da95849bfc897\n",
      "Successfully built sklearn\n",
      "Installing collected packages: sklearn\n",
      "Successfully installed sklearn-0.0\n",
      "Collecting imblearn\n",
      "  Downloading imblearn-0.0-py2.py3-none-any.whl (1.9 kB)\n",
      "Collecting imbalanced-learn\n",
      "  Downloading imbalanced_learn-0.7.0-py3-none-any.whl (167 kB)\n",
      "Requirement already satisfied: joblib>=0.11 in c:\\programdata\\anaconda3\\lib\\site-packages (from imbalanced-learn->imblearn) (0.17.0)\n",
      "Requirement already satisfied: numpy>=1.13.3 in c:\\programdata\\anaconda3\\lib\\site-packages (from imbalanced-learn->imblearn) (1.19.2)\n",
      "Requirement already satisfied: scikit-learn>=0.23 in c:\\programdata\\anaconda3\\lib\\site-packages (from imbalanced-learn->imblearn) (0.23.2)\n",
      "Requirement already satisfied: scipy>=0.19.1 in c:\\programdata\\anaconda3\\lib\\site-packages (from imbalanced-learn->imblearn) (1.5.2)\n",
      "Requirement already satisfied: threadpoolctl>=2.0.0 in c:\\programdata\\anaconda3\\lib\\site-packages (from scikit-learn>=0.23->imbalanced-learn->imblearn) (2.1.0)\n",
      "Installing collected packages: imbalanced-learn, imblearn\n",
      "Successfully installed imbalanced-learn-0.7.0 imblearn-0.0\n",
      "Collecting keras\n",
      "  Downloading Keras-2.4.3-py2.py3-none-any.whl (36 kB)\n",
      "Requirement already satisfied: h5py in c:\\programdata\\anaconda3\\lib\\site-packages (from keras) (2.10.0)\n",
      "Requirement already satisfied: pyyaml in c:\\programdata\\anaconda3\\lib\\site-packages (from keras) (5.3.1)\n",
      "Requirement already satisfied: scipy>=0.14 in c:\\programdata\\anaconda3\\lib\\site-packages (from keras) (1.5.2)\n",
      "Requirement already satisfied: numpy>=1.9.1 in c:\\programdata\\anaconda3\\lib\\site-packages (from keras) (1.19.2)\n",
      "Requirement already satisfied: six in c:\\programdata\\anaconda3\\lib\\site-packages (from h5py->keras) (1.15.0)\n",
      "Installing collected packages: keras\n",
      "Successfully installed keras-2.4.3\n",
      "Collecting tensorflow\n",
      "  Downloading tensorflow-2.4.0-cp38-cp38-win_amd64.whl (370.7 MB)\n",
      "Collecting termcolor~=1.1.0\n",
      "  Downloading termcolor-1.1.0.tar.gz (3.9 kB)\n",
      "Requirement already satisfied: numpy~=1.19.2 in c:\\programdata\\anaconda3\\lib\\site-packages (from tensorflow) (1.19.2)\n",
      "Requirement already satisfied: protobuf>=3.9.2 in c:\\programdata\\anaconda3\\lib\\site-packages (from tensorflow) (3.14.0)\n",
      "Collecting astunparse~=1.6.3\n",
      "  Downloading astunparse-1.6.3-py2.py3-none-any.whl (12 kB)\n",
      "Collecting google-pasta~=0.2\n",
      "  Downloading google_pasta-0.2.0-py3-none-any.whl (57 kB)\n",
      "Collecting flatbuffers~=1.12.0\n",
      "  Downloading flatbuffers-1.12-py2.py3-none-any.whl (15 kB)\n",
      "Requirement already satisfied: six~=1.15.0 in c:\\programdata\\anaconda3\\lib\\site-packages (from tensorflow) (1.15.0)\n",
      "Requirement already satisfied: typing-extensions~=3.7.4 in c:\\programdata\\anaconda3\\lib\\site-packages (from tensorflow) (3.7.4.3)\n",
      "Collecting gast==0.3.3\n",
      "  Downloading gast-0.3.3-py2.py3-none-any.whl (9.7 kB)\n",
      "Requirement already satisfied: wheel~=0.35 in c:\\programdata\\anaconda3\\lib\\site-packages (from tensorflow) (0.35.1)\n",
      "Requirement already satisfied: tensorboard~=2.4 in c:\\programdata\\anaconda3\\lib\\site-packages (from tensorflow) (2.4.0)\n",
      "Collecting keras-preprocessing~=1.1.2\n",
      "  Downloading Keras_Preprocessing-1.1.2-py2.py3-none-any.whl (42 kB)\n",
      "Requirement already satisfied: absl-py~=0.10 in c:\\programdata\\anaconda3\\lib\\site-packages (from tensorflow) (0.11.0)\n",
      "Collecting opt-einsum~=3.3.0\n",
      "  Downloading opt_einsum-3.3.0-py3-none-any.whl (65 kB)\n",
      "Collecting wrapt~=1.12.1\n",
      "  Downloading wrapt-1.12.1.tar.gz (27 kB)\n",
      "Collecting grpcio~=1.32.0\n",
      "  Downloading grpcio-1.32.0-cp38-cp38-win_amd64.whl (2.6 MB)\n",
      "Requirement already satisfied: h5py~=2.10.0 in c:\\programdata\\anaconda3\\lib\\site-packages (from tensorflow) (2.10.0)\n",
      "Collecting tensorflow-estimator<2.5.0,>=2.4.0rc0\n",
      "  Downloading tensorflow_estimator-2.4.0-py2.py3-none-any.whl (462 kB)\n",
      "Requirement already satisfied: google-auth<2,>=1.6.3 in c:\\programdata\\anaconda3\\lib\\site-packages (from tensorboard~=2.4->tensorflow) (1.24.0)\n",
      "Requirement already satisfied: tensorboard-plugin-wit>=1.6.0 in c:\\programdata\\anaconda3\\lib\\site-packages (from tensorboard~=2.4->tensorflow) (1.7.0)\n",
      "Requirement already satisfied: setuptools>=41.0.0 in c:\\programdata\\anaconda3\\lib\\site-packages (from tensorboard~=2.4->tensorflow) (50.3.1.post20201107)\n",
      "Requirement already satisfied: google-auth-oauthlib<0.5,>=0.4.1 in c:\\programdata\\anaconda3\\lib\\site-packages (from tensorboard~=2.4->tensorflow) (0.4.2)\n",
      "Requirement already satisfied: werkzeug>=0.11.15 in c:\\programdata\\anaconda3\\lib\\site-packages (from tensorboard~=2.4->tensorflow) (1.0.1)\n",
      "Requirement already satisfied: markdown>=2.6.8 in c:\\programdata\\anaconda3\\lib\\site-packages (from tensorboard~=2.4->tensorflow) (3.3.3)\n",
      "Requirement already satisfied: requests<3,>=2.21.0 in c:\\programdata\\anaconda3\\lib\\site-packages (from tensorboard~=2.4->tensorflow) (2.24.0)\n",
      "Requirement already satisfied: cachetools<5.0,>=2.0.0 in c:\\programdata\\anaconda3\\lib\\site-packages (from google-auth<2,>=1.6.3->tensorboard~=2.4->tensorflow) (4.2.0)\n",
      "Requirement already satisfied: rsa<5,>=3.1.4; python_version >= \"3.6\" in c:\\programdata\\anaconda3\\lib\\site-packages (from google-auth<2,>=1.6.3->tensorboard~=2.4->tensorflow) (4.6)\n",
      "Requirement already satisfied: pyasn1-modules>=0.2.1 in c:\\programdata\\anaconda3\\lib\\site-packages (from google-auth<2,>=1.6.3->tensorboard~=2.4->tensorflow) (0.2.8)\n",
      "Requirement already satisfied: requests-oauthlib>=0.7.0 in c:\\programdata\\anaconda3\\lib\\site-packages (from google-auth-oauthlib<0.5,>=0.4.1->tensorboard~=2.4->tensorflow) (1.3.0)\n",
      "Requirement already satisfied: chardet<4,>=3.0.2 in c:\\programdata\\anaconda3\\lib\\site-packages (from requests<3,>=2.21.0->tensorboard~=2.4->tensorflow) (3.0.4)\n",
      "Requirement already satisfied: certifi>=2017.4.17 in c:\\programdata\\anaconda3\\lib\\site-packages (from requests<3,>=2.21.0->tensorboard~=2.4->tensorflow) (2020.6.20)\n",
      "Requirement already satisfied: urllib3!=1.25.0,!=1.25.1,<1.26,>=1.21.1 in c:\\programdata\\anaconda3\\lib\\site-packages (from requests<3,>=2.21.0->tensorboard~=2.4->tensorflow) (1.25.11)\n",
      "Requirement already satisfied: idna<3,>=2.5 in c:\\programdata\\anaconda3\\lib\\site-packages (from requests<3,>=2.21.0->tensorboard~=2.4->tensorflow) (2.10)\n",
      "Requirement already satisfied: pyasn1>=0.1.3 in c:\\programdata\\anaconda3\\lib\\site-packages (from rsa<5,>=3.1.4; python_version >= \"3.6\"->google-auth<2,>=1.6.3->tensorboard~=2.4->tensorflow) (0.4.8)\n",
      "Requirement already satisfied: oauthlib>=3.0.0 in c:\\programdata\\anaconda3\\lib\\site-packages (from requests-oauthlib>=0.7.0->google-auth-oauthlib<0.5,>=0.4.1->tensorboard~=2.4->tensorflow) (3.1.0)\n",
      "Building wheels for collected packages: termcolor, wrapt\n",
      "  Building wheel for termcolor (setup.py): started\n",
      "  Building wheel for termcolor (setup.py): finished with status 'done'\n",
      "  Created wheel for termcolor: filename=termcolor-1.1.0-py3-none-any.whl size=4835 sha256=5fd04f0d8d22a19a9ee19f192f46adac497ae645d61046246565ebef0af3c0c2\n",
      "  Stored in directory: c:\\users\\user\\appdata\\local\\pip\\cache\\wheels\\a0\\16\\9c\\5473df82468f958445479c59e784896fa24f4a5fc024b0f501\n",
      "  Building wheel for wrapt (setup.py): started\n",
      "  Building wheel for wrapt (setup.py): finished with status 'done'\n",
      "  Created wheel for wrapt: filename=wrapt-1.12.1-py3-none-any.whl size=19558 sha256=8f7277c2953c6d481fde862f98f3423588210d90a94ece52e2d0012e31a208e3\n",
      "  Stored in directory: c:\\users\\user\\appdata\\local\\pip\\cache\\wheels\\5f\\fd\\9e\\b6cf5890494cb8ef0b5eaff72e5d55a70fb56316007d6dfe73\n",
      "Successfully built termcolor wrapt\n",
      "Installing collected packages: termcolor, astunparse, google-pasta, flatbuffers, gast, keras-preprocessing, opt-einsum, wrapt, grpcio, tensorflow-estimator, tensorflow\n",
      "  Attempting uninstall: wrapt\n",
      "    Found existing installation: wrapt 1.11.2\n",
      "    Uninstalling wrapt-1.11.2:\n",
      "      Successfully uninstalled wrapt-1.11.2\n",
      "  Attempting uninstall: grpcio\n",
      "    Found existing installation: grpcio 1.34.0\n",
      "    Uninstalling grpcio-1.34.0:\n",
      "      Successfully uninstalled grpcio-1.34.0\n",
      "Successfully installed astunparse-1.6.3 flatbuffers-1.12 gast-0.3.3 google-pasta-0.2.0 grpcio-1.32.0 keras-preprocessing-1.1.2 opt-einsum-3.3.0 tensorflow-2.4.0 tensorflow-estimator-2.4.0 termcolor-1.1.0 wrapt-1.12.1\n"
     ]
    }
   ],
   "source": [
    "!pip install datetime\n",
    "!pip install sklearn\n",
    "!pip install imblearn\n",
    "!pip install keras\n",
    "!pip install tensorflow"
   ]
  },
  {
   "cell_type": "code",
   "execution_count": 4,
   "metadata": {},
   "outputs": [],
   "source": [
    "path = \"C:/Users/USER/Desktop/1216 실습파일 점검\"\n",
    "os.chdir(path)\n",
    "\n",
    "df = pd.read_csv(\"melting_tank.csv\", encoding='cp949')"
   ]
  },
  {
   "cell_type": "markdown",
   "metadata": {},
   "source": [
    "> path = \"C:/Users/your_path\"\n",
    "> os.chdir(path)\n",
    "\n",
    "> df = pd.read_csv(\"melting_tank.csv\", encoding=\"cp949\")"
   ]
  },
  {
   "cell_type": "markdown",
   "metadata": {},
   "source": [
    "## 단계2. 데이터 특성 파악"
   ]
  },
  {
   "cell_type": "markdown",
   "metadata": {},
   "source": [
    "### 2-1 데이터 기본 구조 파악"
   ]
  },
  {
   "cell_type": "code",
   "execution_count": 5,
   "metadata": {},
   "outputs": [
    {
     "data": {
      "text/html": [
       "<div>\n",
       "<style scoped>\n",
       "    .dataframe tbody tr th:only-of-type {\n",
       "        vertical-align: middle;\n",
       "    }\n",
       "\n",
       "    .dataframe tbody tr th {\n",
       "        vertical-align: top;\n",
       "    }\n",
       "\n",
       "    .dataframe thead th {\n",
       "        text-align: right;\n",
       "    }\n",
       "</style>\n",
       "<table border=\"1\" class=\"dataframe\">\n",
       "  <thead>\n",
       "    <tr style=\"text-align: right;\">\n",
       "      <th></th>\n",
       "      <th>STD_DT</th>\n",
       "      <th>NUM</th>\n",
       "      <th>MELT_TEMP</th>\n",
       "      <th>MOTORSPEED</th>\n",
       "      <th>MELT_WEIGHT</th>\n",
       "      <th>INSP</th>\n",
       "      <th>TAG</th>\n",
       "    </tr>\n",
       "  </thead>\n",
       "  <tbody>\n",
       "    <tr>\n",
       "      <th>0</th>\n",
       "      <td>2020-03-04 0:00</td>\n",
       "      <td>0</td>\n",
       "      <td>489</td>\n",
       "      <td>116</td>\n",
       "      <td>631</td>\n",
       "      <td>3.19</td>\n",
       "      <td>OK</td>\n",
       "    </tr>\n",
       "    <tr>\n",
       "      <th>1</th>\n",
       "      <td>2020-03-04 0:00</td>\n",
       "      <td>1</td>\n",
       "      <td>433</td>\n",
       "      <td>78</td>\n",
       "      <td>609</td>\n",
       "      <td>3.19</td>\n",
       "      <td>OK</td>\n",
       "    </tr>\n",
       "    <tr>\n",
       "      <th>2</th>\n",
       "      <td>2020-03-04 0:00</td>\n",
       "      <td>2</td>\n",
       "      <td>464</td>\n",
       "      <td>154</td>\n",
       "      <td>608</td>\n",
       "      <td>3.19</td>\n",
       "      <td>OK</td>\n",
       "    </tr>\n",
       "    <tr>\n",
       "      <th>3</th>\n",
       "      <td>2020-03-04 0:00</td>\n",
       "      <td>3</td>\n",
       "      <td>379</td>\n",
       "      <td>212</td>\n",
       "      <td>606</td>\n",
       "      <td>3.19</td>\n",
       "      <td>OK</td>\n",
       "    </tr>\n",
       "    <tr>\n",
       "      <th>4</th>\n",
       "      <td>2020-03-04 0:00</td>\n",
       "      <td>4</td>\n",
       "      <td>798</td>\n",
       "      <td>1736</td>\n",
       "      <td>604</td>\n",
       "      <td>3.21</td>\n",
       "      <td>OK</td>\n",
       "    </tr>\n",
       "  </tbody>\n",
       "</table>\n",
       "</div>"
      ],
      "text/plain": [
       "            STD_DT  NUM  MELT_TEMP  MOTORSPEED  MELT_WEIGHT  INSP TAG\n",
       "0  2020-03-04 0:00    0        489         116          631  3.19  OK\n",
       "1  2020-03-04 0:00    1        433          78          609  3.19  OK\n",
       "2  2020-03-04 0:00    2        464         154          608  3.19  OK\n",
       "3  2020-03-04 0:00    3        379         212          606  3.19  OK\n",
       "4  2020-03-04 0:00    4        798        1736          604  3.21  OK"
      ]
     },
     "execution_count": 5,
     "metadata": {},
     "output_type": "execute_result"
    }
   ],
   "source": [
    "df.head()"
   ]
  },
  {
   "cell_type": "code",
   "execution_count": 6,
   "metadata": {
    "scrolled": true
   },
   "outputs": [
    {
     "name": "stdout",
     "output_type": "stream",
     "text": [
      "<class 'pandas.core.frame.DataFrame'>\n",
      "RangeIndex: 835200 entries, 0 to 835199\n",
      "Data columns (total 7 columns):\n",
      " #   Column       Non-Null Count   Dtype  \n",
      "---  ------       --------------   -----  \n",
      " 0   STD_DT       835200 non-null  object \n",
      " 1   NUM          835200 non-null  int64  \n",
      " 2   MELT_TEMP    835200 non-null  int64  \n",
      " 3   MOTORSPEED   835200 non-null  int64  \n",
      " 4   MELT_WEIGHT  835200 non-null  int64  \n",
      " 5   INSP         835200 non-null  float64\n",
      " 6   TAG          835200 non-null  object \n",
      "dtypes: float64(1), int64(4), object(2)\n",
      "memory usage: 44.6+ MB\n"
     ]
    }
   ],
   "source": [
    "df.info()"
   ]
  },
  {
   "cell_type": "code",
   "execution_count": 7,
   "metadata": {
    "scrolled": true
   },
   "outputs": [
    {
     "data": {
      "text/html": [
       "<div>\n",
       "<style scoped>\n",
       "    .dataframe tbody tr th:only-of-type {\n",
       "        vertical-align: middle;\n",
       "    }\n",
       "\n",
       "    .dataframe tbody tr th {\n",
       "        vertical-align: top;\n",
       "    }\n",
       "\n",
       "    .dataframe thead th {\n",
       "        text-align: right;\n",
       "    }\n",
       "</style>\n",
       "<table border=\"1\" class=\"dataframe\">\n",
       "  <thead>\n",
       "    <tr style=\"text-align: right;\">\n",
       "      <th></th>\n",
       "      <th>NUM</th>\n",
       "      <th>MELT_TEMP</th>\n",
       "      <th>MOTORSPEED</th>\n",
       "      <th>MELT_WEIGHT</th>\n",
       "      <th>INSP</th>\n",
       "    </tr>\n",
       "  </thead>\n",
       "  <tbody>\n",
       "    <tr>\n",
       "      <th>count</th>\n",
       "      <td>835200.000000</td>\n",
       "      <td>835200.000000</td>\n",
       "      <td>835200.000000</td>\n",
       "      <td>835200.000000</td>\n",
       "      <td>835200.000000</td>\n",
       "    </tr>\n",
       "    <tr>\n",
       "      <th>mean</th>\n",
       "      <td>417599.500000</td>\n",
       "      <td>509.200623</td>\n",
       "      <td>459.782865</td>\n",
       "      <td>582.962125</td>\n",
       "      <td>3.194853</td>\n",
       "    </tr>\n",
       "    <tr>\n",
       "      <th>std</th>\n",
       "      <td>241101.616752</td>\n",
       "      <td>128.277519</td>\n",
       "      <td>639.436413</td>\n",
       "      <td>1217.604433</td>\n",
       "      <td>0.011822</td>\n",
       "    </tr>\n",
       "    <tr>\n",
       "      <th>min</th>\n",
       "      <td>0.000000</td>\n",
       "      <td>308.000000</td>\n",
       "      <td>0.000000</td>\n",
       "      <td>0.000000</td>\n",
       "      <td>3.170000</td>\n",
       "    </tr>\n",
       "    <tr>\n",
       "      <th>25%</th>\n",
       "      <td>208799.750000</td>\n",
       "      <td>430.000000</td>\n",
       "      <td>119.000000</td>\n",
       "      <td>186.000000</td>\n",
       "      <td>3.190000</td>\n",
       "    </tr>\n",
       "    <tr>\n",
       "      <th>50%</th>\n",
       "      <td>417599.500000</td>\n",
       "      <td>469.000000</td>\n",
       "      <td>168.000000</td>\n",
       "      <td>383.000000</td>\n",
       "      <td>3.190000</td>\n",
       "    </tr>\n",
       "    <tr>\n",
       "      <th>75%</th>\n",
       "      <td>626399.250000</td>\n",
       "      <td>502.000000</td>\n",
       "      <td>218.000000</td>\n",
       "      <td>583.000000</td>\n",
       "      <td>3.200000</td>\n",
       "    </tr>\n",
       "    <tr>\n",
       "      <th>max</th>\n",
       "      <td>835199.000000</td>\n",
       "      <td>832.000000</td>\n",
       "      <td>1804.000000</td>\n",
       "      <td>55252.000000</td>\n",
       "      <td>3.230000</td>\n",
       "    </tr>\n",
       "  </tbody>\n",
       "</table>\n",
       "</div>"
      ],
      "text/plain": [
       "                 NUM      MELT_TEMP     MOTORSPEED    MELT_WEIGHT  \\\n",
       "count  835200.000000  835200.000000  835200.000000  835200.000000   \n",
       "mean   417599.500000     509.200623     459.782865     582.962125   \n",
       "std    241101.616752     128.277519     639.436413    1217.604433   \n",
       "min         0.000000     308.000000       0.000000       0.000000   \n",
       "25%    208799.750000     430.000000     119.000000     186.000000   \n",
       "50%    417599.500000     469.000000     168.000000     383.000000   \n",
       "75%    626399.250000     502.000000     218.000000     583.000000   \n",
       "max    835199.000000     832.000000    1804.000000   55252.000000   \n",
       "\n",
       "                INSP  \n",
       "count  835200.000000  \n",
       "mean        3.194853  \n",
       "std         0.011822  \n",
       "min         3.170000  \n",
       "25%         3.190000  \n",
       "50%         3.190000  \n",
       "75%         3.200000  \n",
       "max         3.230000  "
      ]
     },
     "execution_count": 7,
     "metadata": {},
     "output_type": "execute_result"
    }
   ],
   "source": [
    "df.describe()"
   ]
  },
  {
   "cell_type": "markdown",
   "metadata": {},
   "source": [
    "### 2-2 시간 정보 datetime 형태 변환 및 인덱스 지정"
   ]
  },
  {
   "cell_type": "markdown",
   "metadata": {},
   "source": [
    "- df['DATE_TIME'] = df['DATE_TIME'].apply() 는 apply안의 형태로 데이터를 대체한다는 의미   \n",
    " + lambda x: 런타임에 생성해서 사용할 수 있는 익명 함수 (일시적인 함수로 함수가 생성된 곳에서만 필요)  \n",
    " + pd.to_datetime(str(x), format='%Y-%m-%d %H:%M:%S') : x를 문자열 형태로 취급하고, 그 x를 format과 같은 형태로 변환 표시"
   ]
  },
  {
   "cell_type": "code",
   "execution_count": 8,
   "metadata": {},
   "outputs": [],
   "source": [
    "df['STD_DT'] = df['STD_DT'].apply(lambda x: pd.to_datetime(str(x),\n",
    "                                                        format='%Y-%m-%d %H:%M:%S'))"
   ]
  },
  {
   "cell_type": "markdown",
   "metadata": {},
   "source": [
    "- df.set_index(['DATE_TIME']) : 'DATE_TIME' 열을 index로 지정 (아래 코드의 결과는 같음)\n",
    " 1. df = df.set_index(['DATE_TIME'])\n",
    " 2. df.set_index(['DATE_TIME'], inplace=True)"
   ]
  },
  {
   "cell_type": "code",
   "execution_count": 9,
   "metadata": {},
   "outputs": [
    {
     "name": "stdout",
     "output_type": "stream",
     "text": [
      "<class 'pandas.core.frame.DataFrame'>\n",
      "RangeIndex: 835200 entries, 0 to 835199\n",
      "Data columns (total 7 columns):\n",
      " #   Column       Non-Null Count   Dtype         \n",
      "---  ------       --------------   -----         \n",
      " 0   STD_DT       835200 non-null  datetime64[ns]\n",
      " 1   NUM          835200 non-null  int64         \n",
      " 2   MELT_TEMP    835200 non-null  int64         \n",
      " 3   MOTORSPEED   835200 non-null  int64         \n",
      " 4   MELT_WEIGHT  835200 non-null  int64         \n",
      " 5   INSP         835200 non-null  float64       \n",
      " 6   TAG          835200 non-null  object        \n",
      "dtypes: datetime64[ns](1), float64(1), int64(4), object(1)\n",
      "memory usage: 44.6+ MB\n"
     ]
    }
   ],
   "source": [
    "df.info()"
   ]
  },
  {
   "cell_type": "code",
   "execution_count": 10,
   "metadata": {},
   "outputs": [],
   "source": [
    "df = df.set_index(['STD_DT'])"
   ]
  },
  {
   "cell_type": "code",
   "execution_count": 11,
   "metadata": {},
   "outputs": [
    {
     "data": {
      "text/html": [
       "<div>\n",
       "<style scoped>\n",
       "    .dataframe tbody tr th:only-of-type {\n",
       "        vertical-align: middle;\n",
       "    }\n",
       "\n",
       "    .dataframe tbody tr th {\n",
       "        vertical-align: top;\n",
       "    }\n",
       "\n",
       "    .dataframe thead th {\n",
       "        text-align: right;\n",
       "    }\n",
       "</style>\n",
       "<table border=\"1\" class=\"dataframe\">\n",
       "  <thead>\n",
       "    <tr style=\"text-align: right;\">\n",
       "      <th></th>\n",
       "      <th>NUM</th>\n",
       "      <th>MELT_TEMP</th>\n",
       "      <th>MOTORSPEED</th>\n",
       "      <th>MELT_WEIGHT</th>\n",
       "      <th>INSP</th>\n",
       "      <th>TAG</th>\n",
       "    </tr>\n",
       "    <tr>\n",
       "      <th>STD_DT</th>\n",
       "      <th></th>\n",
       "      <th></th>\n",
       "      <th></th>\n",
       "      <th></th>\n",
       "      <th></th>\n",
       "      <th></th>\n",
       "    </tr>\n",
       "  </thead>\n",
       "  <tbody>\n",
       "    <tr>\n",
       "      <th>2020-03-04 00:00:00</th>\n",
       "      <td>0</td>\n",
       "      <td>489</td>\n",
       "      <td>116</td>\n",
       "      <td>631</td>\n",
       "      <td>3.19</td>\n",
       "      <td>OK</td>\n",
       "    </tr>\n",
       "    <tr>\n",
       "      <th>2020-03-04 00:00:00</th>\n",
       "      <td>1</td>\n",
       "      <td>433</td>\n",
       "      <td>78</td>\n",
       "      <td>609</td>\n",
       "      <td>3.19</td>\n",
       "      <td>OK</td>\n",
       "    </tr>\n",
       "    <tr>\n",
       "      <th>2020-03-04 00:00:00</th>\n",
       "      <td>2</td>\n",
       "      <td>464</td>\n",
       "      <td>154</td>\n",
       "      <td>608</td>\n",
       "      <td>3.19</td>\n",
       "      <td>OK</td>\n",
       "    </tr>\n",
       "    <tr>\n",
       "      <th>2020-03-04 00:00:00</th>\n",
       "      <td>3</td>\n",
       "      <td>379</td>\n",
       "      <td>212</td>\n",
       "      <td>606</td>\n",
       "      <td>3.19</td>\n",
       "      <td>OK</td>\n",
       "    </tr>\n",
       "    <tr>\n",
       "      <th>2020-03-04 00:00:00</th>\n",
       "      <td>4</td>\n",
       "      <td>798</td>\n",
       "      <td>1736</td>\n",
       "      <td>604</td>\n",
       "      <td>3.21</td>\n",
       "      <td>OK</td>\n",
       "    </tr>\n",
       "    <tr>\n",
       "      <th>2020-03-04 00:00:00</th>\n",
       "      <td>5</td>\n",
       "      <td>743</td>\n",
       "      <td>1722</td>\n",
       "      <td>603</td>\n",
       "      <td>3.21</td>\n",
       "      <td>OK</td>\n",
       "    </tr>\n",
       "    <tr>\n",
       "      <th>2020-03-04 00:00:00</th>\n",
       "      <td>6</td>\n",
       "      <td>390</td>\n",
       "      <td>212</td>\n",
       "      <td>602</td>\n",
       "      <td>3.19</td>\n",
       "      <td>OK</td>\n",
       "    </tr>\n",
       "    <tr>\n",
       "      <th>2020-03-04 00:00:00</th>\n",
       "      <td>7</td>\n",
       "      <td>493</td>\n",
       "      <td>152</td>\n",
       "      <td>600</td>\n",
       "      <td>3.19</td>\n",
       "      <td>OK</td>\n",
       "    </tr>\n",
       "    <tr>\n",
       "      <th>2020-03-04 00:00:00</th>\n",
       "      <td>8</td>\n",
       "      <td>427</td>\n",
       "      <td>0</td>\n",
       "      <td>599</td>\n",
       "      <td>3.19</td>\n",
       "      <td>OK</td>\n",
       "    </tr>\n",
       "    <tr>\n",
       "      <th>2020-03-04 00:00:00</th>\n",
       "      <td>9</td>\n",
       "      <td>489</td>\n",
       "      <td>148</td>\n",
       "      <td>598</td>\n",
       "      <td>3.20</td>\n",
       "      <td>OK</td>\n",
       "    </tr>\n",
       "    <tr>\n",
       "      <th>2020-03-04 00:01:00</th>\n",
       "      <td>10</td>\n",
       "      <td>507</td>\n",
       "      <td>128</td>\n",
       "      <td>596</td>\n",
       "      <td>3.19</td>\n",
       "      <td>OK</td>\n",
       "    </tr>\n",
       "    <tr>\n",
       "      <th>2020-03-04 00:01:00</th>\n",
       "      <td>11</td>\n",
       "      <td>408</td>\n",
       "      <td>66</td>\n",
       "      <td>595</td>\n",
       "      <td>3.19</td>\n",
       "      <td>OK</td>\n",
       "    </tr>\n",
       "    <tr>\n",
       "      <th>2020-03-04 00:01:00</th>\n",
       "      <td>12</td>\n",
       "      <td>474</td>\n",
       "      <td>138</td>\n",
       "      <td>594</td>\n",
       "      <td>3.19</td>\n",
       "      <td>OK</td>\n",
       "    </tr>\n",
       "    <tr>\n",
       "      <th>2020-03-04 00:01:00</th>\n",
       "      <td>13</td>\n",
       "      <td>358</td>\n",
       "      <td>201</td>\n",
       "      <td>592</td>\n",
       "      <td>3.19</td>\n",
       "      <td>OK</td>\n",
       "    </tr>\n",
       "    <tr>\n",
       "      <th>2020-03-04 00:01:00</th>\n",
       "      <td>14</td>\n",
       "      <td>740</td>\n",
       "      <td>1740</td>\n",
       "      <td>590</td>\n",
       "      <td>3.22</td>\n",
       "      <td>OK</td>\n",
       "    </tr>\n",
       "    <tr>\n",
       "      <th>2020-03-04 00:01:00</th>\n",
       "      <td>15</td>\n",
       "      <td>772</td>\n",
       "      <td>1729</td>\n",
       "      <td>588</td>\n",
       "      <td>3.22</td>\n",
       "      <td>OK</td>\n",
       "    </tr>\n",
       "    <tr>\n",
       "      <th>2020-03-04 00:01:00</th>\n",
       "      <td>16</td>\n",
       "      <td>424</td>\n",
       "      <td>195</td>\n",
       "      <td>586</td>\n",
       "      <td>3.18</td>\n",
       "      <td>OK</td>\n",
       "    </tr>\n",
       "    <tr>\n",
       "      <th>2020-03-04 00:01:00</th>\n",
       "      <td>17</td>\n",
       "      <td>460</td>\n",
       "      <td>158</td>\n",
       "      <td>585</td>\n",
       "      <td>3.19</td>\n",
       "      <td>OK</td>\n",
       "    </tr>\n",
       "    <tr>\n",
       "      <th>2020-03-04 00:01:00</th>\n",
       "      <td>18</td>\n",
       "      <td>440</td>\n",
       "      <td>0</td>\n",
       "      <td>584</td>\n",
       "      <td>3.19</td>\n",
       "      <td>OK</td>\n",
       "    </tr>\n",
       "    <tr>\n",
       "      <th>2020-03-04 00:01:00</th>\n",
       "      <td>19</td>\n",
       "      <td>504</td>\n",
       "      <td>133</td>\n",
       "      <td>582</td>\n",
       "      <td>3.19</td>\n",
       "      <td>OK</td>\n",
       "    </tr>\n",
       "  </tbody>\n",
       "</table>\n",
       "</div>"
      ],
      "text/plain": [
       "                     NUM  MELT_TEMP  MOTORSPEED  MELT_WEIGHT  INSP TAG\n",
       "STD_DT                                                                \n",
       "2020-03-04 00:00:00    0        489         116          631  3.19  OK\n",
       "2020-03-04 00:00:00    1        433          78          609  3.19  OK\n",
       "2020-03-04 00:00:00    2        464         154          608  3.19  OK\n",
       "2020-03-04 00:00:00    3        379         212          606  3.19  OK\n",
       "2020-03-04 00:00:00    4        798        1736          604  3.21  OK\n",
       "2020-03-04 00:00:00    5        743        1722          603  3.21  OK\n",
       "2020-03-04 00:00:00    6        390         212          602  3.19  OK\n",
       "2020-03-04 00:00:00    7        493         152          600  3.19  OK\n",
       "2020-03-04 00:00:00    8        427           0          599  3.19  OK\n",
       "2020-03-04 00:00:00    9        489         148          598  3.20  OK\n",
       "2020-03-04 00:01:00   10        507         128          596  3.19  OK\n",
       "2020-03-04 00:01:00   11        408          66          595  3.19  OK\n",
       "2020-03-04 00:01:00   12        474         138          594  3.19  OK\n",
       "2020-03-04 00:01:00   13        358         201          592  3.19  OK\n",
       "2020-03-04 00:01:00   14        740        1740          590  3.22  OK\n",
       "2020-03-04 00:01:00   15        772        1729          588  3.22  OK\n",
       "2020-03-04 00:01:00   16        424         195          586  3.18  OK\n",
       "2020-03-04 00:01:00   17        460         158          585  3.19  OK\n",
       "2020-03-04 00:01:00   18        440           0          584  3.19  OK\n",
       "2020-03-04 00:01:00   19        504         133          582  3.19  OK"
      ]
     },
     "execution_count": 11,
     "metadata": {},
     "output_type": "execute_result"
    }
   ],
   "source": [
    "df.head(20)"
   ]
  },
  {
   "cell_type": "markdown",
   "metadata": {},
   "source": [
    "### 2-3 histogram 및 plot 그리기"
   ]
  },
  {
   "cell_type": "markdown",
   "metadata": {},
   "source": [
    "#### 관측치의 구간별 빈도 수 확인을 위하여 histogram 그리기"
   ]
  },
  {
   "cell_type": "code",
   "execution_count": 12,
   "metadata": {},
   "outputs": [],
   "source": [
    "col_name = ['MELT_TEMP', 'MOTORSPEED', 'MELT_WEIGHT', 'INSP', 'TAG']"
   ]
  },
  {
   "cell_type": "code",
   "execution_count": 13,
   "metadata": {},
   "outputs": [
    {
     "data": {
      "image/png": "[encoded data removed]",
      "text/plain": [
       "<Figure size 864x864 with 5 Axes>"
      ]
     },
     "metadata": {
      "needs_background": "light"
     },
     "output_type": "display_data"
    }
   ],
   "source": [
    "plt.figure(figsize=(12, 12))\n",
    "for i in range(len(col_name)):\n",
    "    num = 231+i\n",
    "    plt.subplot(num)\n",
    "    plt.hist(df[col_name[i]])\n",
    "    plt.xticks(rotation=45)\n",
    "    plt.title(col_name[i])\n",
    "plt.show()"
   ]
  },
  {
   "cell_type": "markdown",
   "metadata": {},
   "source": [
    "#### 관측치의 패턴 확인을 위한 plot 그리기"
   ]
  },
  {
   "cell_type": "code",
   "execution_count": 14,
   "metadata": {},
   "outputs": [
    {
     "data": {
      "image/png": "[encoded data removed]",
      "text/plain": [
       "<Figure size 864x864 with 4 Axes>"
      ]
     },
     "metadata": {
      "needs_background": "light"
     },
     "output_type": "display_data"
    }
   ],
   "source": [
    "col_name = ['MELT_TEMP', 'MOTORSPEED', 'MELT_WEIGHT', 'INSP']\n",
    "plt.figure(figsize=(12, 12))\n",
    "for i in range(len(col_name)):\n",
    "    num = 221+i\n",
    "    plt.subplot(num)\n",
    "    plt.plot(df[col_name[i]])\n",
    "    plt.xticks(rotation=45)\n",
    "    plt.title(col_name[i])\n",
    "plt.subplots_adjust(left=0.125, bottom=0.1,  right=0.9, top=0.9, wspace=0.2, hspace=0.35)  \n",
    "plt.show()"
   ]
  },
  {
   "cell_type": "markdown",
   "metadata": {},
   "source": [
    "- 그래프를 그린 결과 관측 값이 너무 많아 그래프의 패턴을 살펴보기 어렵다. 따라서 슬라이싱을 하여 1~100까지의 특성을 살펴본다.\n",
    "- df['MELT_TEMP'][1:100]과 같이 지정해주면 'MELT_TEMP'열의 0번부터 99번까지(총 100개)의 관측치를 의미한다.\n",
    "- 간격은 사용자의 임의로 바꾸어 변경하면되며, 해당 데이터에서는 각 분마다(10개의 관측치마다) 패턴을 보였으므로 해당 간격을 timestep으로 활용한다."
   ]
  },
  {
   "cell_type": "code",
   "execution_count": 15,
   "metadata": {
    "scrolled": false
   },
   "outputs": [
    {
     "data": {
      "image/png": "[encoded data removed]",
      "text/plain": [
       "<Figure size 864x864 with 4 Axes>"
      ]
     },
     "metadata": {
      "needs_background": "light"
     },
     "output_type": "display_data"
    }
   ],
   "source": [
    "plt.figure(figsize=(12, 12))\n",
    "for i in range(len(col_name)):\n",
    "    num = 221+i\n",
    "    plt.subplot(num)\n",
    "    plt.plot(df[col_name[i]][0:100])\n",
    "    plt.xticks(rotation=45)\n",
    "    plt.title(col_name[i])\n",
    "plt.subplots_adjust(left=0.125, bottom=0.1,  right=0.9, top=0.9, wspace=0.2, hspace=0.35)  \n",
    "plt.show()"
   ]
  },
  {
   "cell_type": "markdown",
   "metadata": {},
   "source": [
    "### 2-4. 범주형 변수를 숫자 형태로 인코딩해주는 과정"
   ]
  },
  {
   "cell_type": "markdown",
   "metadata": {},
   "source": [
    " - 종속변수인 TAG가 범주형(OK, NG) 형태로 되어있기 때문에 해당 변수를 숫자 형태로 인코딩 해주어야함\n",
    "   (기계는 문자열을 인식하지 못하기 때문에 숫자 형태로 변환 필요)\n",
    " - preprocessing.LabelEncoder() 이용"
   ]
  },
  {
   "cell_type": "code",
   "execution_count": 16,
   "metadata": {},
   "outputs": [],
   "source": [
    "encoder = preprocessing.LabelEncoder()\n",
    "df['TAG'] = encoder.fit_transform(df['TAG'])  # 범주형 변수 숫자로 인코딩\n",
    "df['TAG'] = df['TAG'].astype('float32')"
   ]
  },
  {
   "cell_type": "code",
   "execution_count": 17,
   "metadata": {
    "scrolled": true
   },
   "outputs": [
    {
     "data": {
      "text/plain": [
       "1.0    618821\n",
       "0.0    216379\n",
       "Name: TAG, dtype: int64"
      ]
     },
     "execution_count": 17,
     "metadata": {},
     "output_type": "execute_result"
    }
   ],
   "source": [
    "df['TAG'].value_counts()"
   ]
  },
  {
   "cell_type": "markdown",
   "metadata": {},
   "source": [
    "### 2-5. 상관 분석"
   ]
  },
  {
   "cell_type": "code",
   "execution_count": 18,
   "metadata": {},
   "outputs": [
    {
     "data": {
      "text/html": [
       "<div>\n",
       "<style scoped>\n",
       "    .dataframe tbody tr th:only-of-type {\n",
       "        vertical-align: middle;\n",
       "    }\n",
       "\n",
       "    .dataframe tbody tr th {\n",
       "        vertical-align: top;\n",
       "    }\n",
       "\n",
       "    .dataframe thead th {\n",
       "        text-align: right;\n",
       "    }\n",
       "</style>\n",
       "<table border=\"1\" class=\"dataframe\">\n",
       "  <thead>\n",
       "    <tr style=\"text-align: right;\">\n",
       "      <th></th>\n",
       "      <th>NUM</th>\n",
       "      <th>MELT_TEMP</th>\n",
       "      <th>MOTORSPEED</th>\n",
       "      <th>MELT_WEIGHT</th>\n",
       "      <th>INSP</th>\n",
       "      <th>TAG</th>\n",
       "    </tr>\n",
       "  </thead>\n",
       "  <tbody>\n",
       "    <tr>\n",
       "      <th>NUM</th>\n",
       "      <td>1.000000</td>\n",
       "      <td>0.000188</td>\n",
       "      <td>-0.000050</td>\n",
       "      <td>0.080079</td>\n",
       "      <td>-0.000524</td>\n",
       "      <td>0.114182</td>\n",
       "    </tr>\n",
       "    <tr>\n",
       "      <th>MELT_TEMP</th>\n",
       "      <td>0.000188</td>\n",
       "      <td>1.000000</td>\n",
       "      <td>0.944929</td>\n",
       "      <td>-0.000336</td>\n",
       "      <td>0.916295</td>\n",
       "      <td>0.370120</td>\n",
       "    </tr>\n",
       "    <tr>\n",
       "      <th>MOTORSPEED</th>\n",
       "      <td>-0.000050</td>\n",
       "      <td>0.944929</td>\n",
       "      <td>1.000000</td>\n",
       "      <td>0.000123</td>\n",
       "      <td>0.887813</td>\n",
       "      <td>0.300793</td>\n",
       "    </tr>\n",
       "    <tr>\n",
       "      <th>MELT_WEIGHT</th>\n",
       "      <td>0.080079</td>\n",
       "      <td>-0.000336</td>\n",
       "      <td>0.000123</td>\n",
       "      <td>1.000000</td>\n",
       "      <td>-0.000005</td>\n",
       "      <td>0.000840</td>\n",
       "    </tr>\n",
       "    <tr>\n",
       "      <th>INSP</th>\n",
       "      <td>-0.000524</td>\n",
       "      <td>0.916295</td>\n",
       "      <td>0.887813</td>\n",
       "      <td>-0.000005</td>\n",
       "      <td>1.000000</td>\n",
       "      <td>0.323128</td>\n",
       "    </tr>\n",
       "    <tr>\n",
       "      <th>TAG</th>\n",
       "      <td>0.114182</td>\n",
       "      <td>0.370120</td>\n",
       "      <td>0.300793</td>\n",
       "      <td>0.000840</td>\n",
       "      <td>0.323128</td>\n",
       "      <td>1.000000</td>\n",
       "    </tr>\n",
       "  </tbody>\n",
       "</table>\n",
       "</div>"
      ],
      "text/plain": [
       "                  NUM  MELT_TEMP  MOTORSPEED  MELT_WEIGHT      INSP       TAG\n",
       "NUM          1.000000   0.000188   -0.000050     0.080079 -0.000524  0.114182\n",
       "MELT_TEMP    0.000188   1.000000    0.944929    -0.000336  0.916295  0.370120\n",
       "MOTORSPEED  -0.000050   0.944929    1.000000     0.000123  0.887813  0.300793\n",
       "MELT_WEIGHT  0.080079  -0.000336    0.000123     1.000000 -0.000005  0.000840\n",
       "INSP        -0.000524   0.916295    0.887813    -0.000005  1.000000  0.323128\n",
       "TAG          0.114182   0.370120    0.300793     0.000840  0.323128  1.000000"
      ]
     },
     "execution_count": 18,
     "metadata": {},
     "output_type": "execute_result"
    }
   ],
   "source": [
    "corr = df.corr(method = 'pearson') \n",
    "corr"
   ]
  },
  {
   "cell_type": "markdown",
   "metadata": {},
   "source": [
    "## 단계3. 데이터 정제(전처리)"
   ]
  },
  {
   "cell_type": "markdown",
   "metadata": {},
   "source": [
    "### 3-1. 분석에 활용할 칼럼 추출"
   ]
  },
  {
   "cell_type": "markdown",
   "metadata": {},
   "source": [
    "- 'df’에서 실제 분석에 활용할 독립변수, 종속변수인 ‘MELT_TEMP’, ‘MOTORSPEED’, ‘TAG’칼럼만 추출하여 ‘df1’에 저장한다"
   ]
  },
  {
   "cell_type": "code",
   "execution_count": 19,
   "metadata": {},
   "outputs": [],
   "source": [
    "df1 = df[['MELT_TEMP', 'MOTORSPEED', 'TAG']]"
   ]
  },
  {
   "cell_type": "code",
   "execution_count": 20,
   "metadata": {
    "scrolled": false
   },
   "outputs": [
    {
     "data": {
      "text/html": [
       "<div>\n",
       "<style scoped>\n",
       "    .dataframe tbody tr th:only-of-type {\n",
       "        vertical-align: middle;\n",
       "    }\n",
       "\n",
       "    .dataframe tbody tr th {\n",
       "        vertical-align: top;\n",
       "    }\n",
       "\n",
       "    .dataframe thead th {\n",
       "        text-align: right;\n",
       "    }\n",
       "</style>\n",
       "<table border=\"1\" class=\"dataframe\">\n",
       "  <thead>\n",
       "    <tr style=\"text-align: right;\">\n",
       "      <th></th>\n",
       "      <th>MELT_TEMP</th>\n",
       "      <th>MOTORSPEED</th>\n",
       "      <th>TAG</th>\n",
       "    </tr>\n",
       "    <tr>\n",
       "      <th>STD_DT</th>\n",
       "      <th></th>\n",
       "      <th></th>\n",
       "      <th></th>\n",
       "    </tr>\n",
       "  </thead>\n",
       "  <tbody>\n",
       "    <tr>\n",
       "      <th>2020-03-04 00:00:00</th>\n",
       "      <td>489</td>\n",
       "      <td>116</td>\n",
       "      <td>1.0</td>\n",
       "    </tr>\n",
       "    <tr>\n",
       "      <th>2020-03-04 00:00:00</th>\n",
       "      <td>433</td>\n",
       "      <td>78</td>\n",
       "      <td>1.0</td>\n",
       "    </tr>\n",
       "    <tr>\n",
       "      <th>2020-03-04 00:00:00</th>\n",
       "      <td>464</td>\n",
       "      <td>154</td>\n",
       "      <td>1.0</td>\n",
       "    </tr>\n",
       "    <tr>\n",
       "      <th>2020-03-04 00:00:00</th>\n",
       "      <td>379</td>\n",
       "      <td>212</td>\n",
       "      <td>1.0</td>\n",
       "    </tr>\n",
       "    <tr>\n",
       "      <th>2020-03-04 00:00:00</th>\n",
       "      <td>798</td>\n",
       "      <td>1736</td>\n",
       "      <td>1.0</td>\n",
       "    </tr>\n",
       "    <tr>\n",
       "      <th>...</th>\n",
       "      <td>...</td>\n",
       "      <td>...</td>\n",
       "      <td>...</td>\n",
       "    </tr>\n",
       "    <tr>\n",
       "      <th>2020-04-30 23:59:00</th>\n",
       "      <td>755</td>\n",
       "      <td>1743</td>\n",
       "      <td>1.0</td>\n",
       "    </tr>\n",
       "    <tr>\n",
       "      <th>2020-04-30 23:59:00</th>\n",
       "      <td>385</td>\n",
       "      <td>206</td>\n",
       "      <td>1.0</td>\n",
       "    </tr>\n",
       "    <tr>\n",
       "      <th>2020-04-30 23:59:00</th>\n",
       "      <td>465</td>\n",
       "      <td>148</td>\n",
       "      <td>1.0</td>\n",
       "    </tr>\n",
       "    <tr>\n",
       "      <th>2020-04-30 23:59:00</th>\n",
       "      <td>467</td>\n",
       "      <td>0</td>\n",
       "      <td>1.0</td>\n",
       "    </tr>\n",
       "    <tr>\n",
       "      <th>2020-04-30 23:59:00</th>\n",
       "      <td>453</td>\n",
       "      <td>125</td>\n",
       "      <td>1.0</td>\n",
       "    </tr>\n",
       "  </tbody>\n",
       "</table>\n",
       "<p>835200 rows × 3 columns</p>\n",
       "</div>"
      ],
      "text/plain": [
       "                     MELT_TEMP  MOTORSPEED  TAG\n",
       "STD_DT                                         \n",
       "2020-03-04 00:00:00        489         116  1.0\n",
       "2020-03-04 00:00:00        433          78  1.0\n",
       "2020-03-04 00:00:00        464         154  1.0\n",
       "2020-03-04 00:00:00        379         212  1.0\n",
       "2020-03-04 00:00:00        798        1736  1.0\n",
       "...                        ...         ...  ...\n",
       "2020-04-30 23:59:00        755        1743  1.0\n",
       "2020-04-30 23:59:00        385         206  1.0\n",
       "2020-04-30 23:59:00        465         148  1.0\n",
       "2020-04-30 23:59:00        467           0  1.0\n",
       "2020-04-30 23:59:00        453         125  1.0\n",
       "\n",
       "[835200 rows x 3 columns]"
      ]
     },
     "execution_count": 20,
     "metadata": {},
     "output_type": "execute_result"
    }
   ],
   "source": [
    "df1"
   ]
  },
  {
   "cell_type": "markdown",
   "metadata": {},
   "source": [
    "## 단계4. 훈련/테스트 데이터 분리"
   ]
  },
  {
   "cell_type": "markdown",
   "metadata": {},
   "source": [
    "### 4-1. 훈련/테스트 데이터 분리"
   ]
  },
  {
   "cell_type": "markdown",
   "metadata": {},
   "source": [
    "- 해당 데이터에서는 데이터의 비율을 7:3으로 맞추어 활용하였으며, 특정 날짜를 timestamp로 지정하여 timestamp를 기준으로 분리를 하는 것도 가능하다."
   ]
  },
  {
   "cell_type": "code",
   "execution_count": 21,
   "metadata": {},
   "outputs": [],
   "source": [
    "split_date = int(df1.shape[0]*0.7)   # df.shape[0]*0.7 = 584640\n",
    "\n",
    "train = df1[:split_date]\n",
    "test = df1[split_date:]"
   ]
  },
  {
   "cell_type": "code",
   "execution_count": 22,
   "metadata": {},
   "outputs": [
    {
     "name": "stdout",
     "output_type": "stream",
     "text": [
      "(584640, 3)\n",
      "(250560, 3)\n"
     ]
    }
   ],
   "source": [
    "print(train.shape)\n",
    "print(test.shape)"
   ]
  },
  {
   "cell_type": "markdown",
   "metadata": {},
   "source": [
    "## 단계5. 정규화"
   ]
  },
  {
   "cell_type": "markdown",
   "metadata": {},
   "source": [
    "### 5-1. MinMax 정규화"
   ]
  },
  {
   "cell_type": "markdown",
   "metadata": {},
   "source": [
    "- data의 scale을 맞추면 weight의 scale도 일관성 있게 나올 수 있기 때문에 정규화 과정을 거침\n",
    "- 사용 방법\n",
    "  1. 훈련 데이터의 분포 추정 : 훈련 데이터를 입력으로 하여 fit 함수를 실행하여 분포 모수를 객체 내에 저장   \n",
    "  2. 훈련 데이터의 변환 : 훈련 데이터를 입력으로 하여 transform 함수를 싱행하여 훈련 데이터를 변환   \n",
    "  3. 테스트 데이터의 변환 : 테스트 데이터를 입력으로 하여 transform 함수를 실행하여 테스트 데이터를 변환\n",
    "\n",
    "- 훈련 데이터는 fit_transform()함수를 활용하여 분포를 추정 및 변환하며, 테스트 데이터는 transform() 함수를 활용하여 훈련 데이터로 추정된 평균과 표준 편차를 활용하여 변환\n",
    "\n",
    "- 스케일링의 종류는 StandardScaler, MinMaxScaler, MaxAbsScaler, RobustScaler가 있는데, 해당 분석에서는 MinMaxScaler 활용\n",
    "  + MinMaxScaler는 0~1 사이의 값으로 정규화하는 기법"
   ]
  },
  {
   "cell_type": "code",
   "execution_count": 23,
   "metadata": {},
   "outputs": [],
   "source": [
    "scaler = preprocessing.MinMaxScaler()\n",
    "\n",
    "train_sc = scaler.fit_transform(train)\n",
    "test_sc = scaler.transform(test)"
   ]
  },
  {
   "cell_type": "code",
   "execution_count": 24,
   "metadata": {},
   "outputs": [
    {
     "data": {
      "text/plain": [
       "array([[0.34541985, 0.06430155, 1.        ],\n",
       "       [0.23854962, 0.04323725, 1.        ],\n",
       "       [0.29770992, 0.08536585, 1.        ],\n",
       "       ...,\n",
       "       [0.31679389, 0.08203991, 1.        ],\n",
       "       [0.1870229 , 0.03769401, 1.        ],\n",
       "       [0.32251908, 0.05820399, 1.        ]])"
      ]
     },
     "execution_count": 24,
     "metadata": {},
     "output_type": "execute_result"
    }
   ],
   "source": [
    "train_sc"
   ]
  },
  {
   "cell_type": "code",
   "execution_count": 25,
   "metadata": {},
   "outputs": [],
   "source": [
    "X_train_values = train_sc[:, :-1]\n",
    "y_train_values = train_sc[:,-1]"
   ]
  },
  {
   "cell_type": "markdown",
   "metadata": {},
   "source": [
    "### 5-2. 클래스 불균형 문제 해결(SMOTE)"
   ]
  },
  {
   "cell_type": "code",
   "execution_count": 26,
   "metadata": {
    "scrolled": true
   },
   "outputs": [
    {
     "name": "stdout",
     "output_type": "stream",
     "text": [
      "SMOTE 적용 전 학습용 피처/레이블 데이터 세트:  (584640, 2) (584640,)\n",
      "SMOTE 적용 후 학습용 피처/레이블 데이터 세트:  (742408, 2) (742408,)\n",
      "SMOTE 적용 후 레이블 값 분포: \n",
      " 1.0    371204\n",
      "0.0    371204\n",
      "dtype: int64\n"
     ]
    }
   ],
   "source": [
    "smote = SMOTE(random_state=0)\n",
    "\n",
    "X_train_over,y_train_over = smote.fit_sample(X_train_values,y_train_values)\n",
    "print('SMOTE 적용 전 학습용 피처/레이블 데이터 세트: ', X_train_values.shape, y_train_values.shape)\n",
    "print('SMOTE 적용 후 학습용 피처/레이블 데이터 세트: ', X_train_over.shape, y_train_over.shape)\n",
    "print('SMOTE 적용 후 레이블 값 분포: \\n', pd.Series(y_train_over).value_counts())"
   ]
  },
  {
   "cell_type": "markdown",
   "metadata": {},
   "source": [
    "## 단계6. Window 정의 및 데이터 생성"
   ]
  },
  {
   "cell_type": "markdown",
   "metadata": {},
   "source": [
    "### 6-1. Window 정의 함수 생성"
   ]
  },
  {
   "cell_type": "code",
   "execution_count": 27,
   "metadata": {},
   "outputs": [],
   "source": [
    "def make_dataset(data, label, window_size):\n",
    "    feature_list = []\n",
    "    label_list = []\n",
    "    for i in range(len(data) - window_size):\n",
    "        feature_list.append(np.array(data.iloc[i:i+window_size]))\n",
    "        label_list.append(np.array(label.iloc[i+window_size]))\n",
    "    return np.array(feature_list), np.array(label_list)"
   ]
  },
  {
   "cell_type": "markdown",
   "metadata": {},
   "source": [
    "### 6-2. window 정의 함수를 활용한 데이터 생성"
   ]
  },
  {
   "cell_type": "code",
   "execution_count": 28,
   "metadata": {},
   "outputs": [],
   "source": [
    "X_train_over = pd.DataFrame(X_train_over, columns=['MELT_TEMP', 'MOTORSPEED'])\n",
    "y_train_over = pd.DataFrame(y_train_over, columns=['TAG'])"
   ]
  },
  {
   "cell_type": "code",
   "execution_count": 29,
   "metadata": {},
   "outputs": [],
   "source": [
    "# train dataset\n",
    "train_feature, train_label = make_dataset(X_train_over, y_train_over, 10)"
   ]
  },
  {
   "cell_type": "code",
   "execution_count": 30,
   "metadata": {},
   "outputs": [],
   "source": [
    "test_sc = pd.DataFrame(test_sc, columns=['MELT_TEMP', 'MOTORSPEED', 'TAG'])"
   ]
  },
  {
   "cell_type": "code",
   "execution_count": 31,
   "metadata": {},
   "outputs": [],
   "source": [
    "feature_cols = ['MELT_TEMP', 'MOTORSPEED']\n",
    "label_cols = ['TAG']"
   ]
  },
  {
   "cell_type": "code",
   "execution_count": 32,
   "metadata": {
    "scrolled": true
   },
   "outputs": [
    {
     "data": {
      "text/plain": [
       "((250550, 10, 2), (250550, 1))"
      ]
     },
     "execution_count": 32,
     "metadata": {},
     "output_type": "execute_result"
    }
   ],
   "source": [
    "test_feature = test_sc[feature_cols]\n",
    "test_label = test_sc[label_cols]\n",
    "\n",
    "# test dataset (실제 예측 해볼 데이터)\n",
    "test_feature, test_label = make_dataset(test_feature, test_label, 10)\n",
    "test_feature.shape, test_label.shape"
   ]
  },
  {
   "cell_type": "markdown",
   "metadata": {},
   "source": [
    "### 6-3. 검증 데이터(Validation data) 생성"
   ]
  },
  {
   "cell_type": "markdown",
   "metadata": {},
   "source": [
    "모델의 평가를 위하여 훈련데이터를 모델 학습을 위한 훈련 데이터와 모델 검증(validation) 데이터로 나눔"
   ]
  },
  {
   "cell_type": "code",
   "execution_count": 33,
   "metadata": {},
   "outputs": [
    {
     "data": {
      "text/plain": [
       "((519678, 10, 2), (222720, 10, 2))"
      ]
     },
     "execution_count": 33,
     "metadata": {},
     "output_type": "execute_result"
    }
   ],
   "source": [
    "# train, validation set 생성\n",
    "x_train, x_valid, y_train, y_valid = train_test_split(train_feature, train_label, test_size=0.3)\n",
    "\n",
    "x_train.shape, x_valid.shape"
   ]
  },
  {
   "cell_type": "markdown",
   "metadata": {},
   "source": [
    "## 단계7. 모델 구축 및 훈련"
   ]
  },
  {
   "cell_type": "markdown",
   "metadata": {},
   "source": [
    "### 7-1. LSTM 모델 구축"
   ]
  },
  {
   "cell_type": "code",
   "execution_count": 34,
   "metadata": {},
   "outputs": [],
   "source": [
    "model = Sequential()\n",
    "model.add(LSTM(50, \n",
    "               input_shape=(train_feature.shape[1], train_feature.shape[2]), \n",
    "               activation='tanh', \n",
    "               return_sequences=False)\n",
    "          )\n",
    "model.add(Dense(1, activation='sigmoid'))"
   ]
  },
  {
   "cell_type": "markdown",
   "metadata": {},
   "source": [
    "### 7-2. 모델 훈련"
   ]
  },
  {
   "cell_type": "code",
   "execution_count": 35,
   "metadata": {},
   "outputs": [],
   "source": [
    "model_path=path"
   ]
  },
  {
   "cell_type": "code",
   "execution_count": 36,
   "metadata": {},
   "outputs": [],
   "source": [
    "model.compile(loss='binary_crossentropy', optimizer='adam', metrics=['accuracy']) \n",
    "early_stop = EarlyStopping(monitor='val_loss', patience=5)\n",
    "filename = os.path.join(model_path, 'tmp_checkpoint.h5')\n",
    "checkpoint = ModelCheckpoint(filename, monitor='val_loss', verbose=0, \n",
    "                             save_best_only=True, mode='auto')"
   ]
  },
  {
   "cell_type": "code",
   "execution_count": 37,
   "metadata": {},
   "outputs": [
    {
     "name": "stdout",
     "output_type": "stream",
     "text": [
      "Epoch 1/200\n",
      "10394/10394 [==============================] - 27s 2ms/step - loss: 0.4263 - accuracy: 0.7731 - val_loss: 0.3673 - val_accuracy: 0.8274\n",
      "Epoch 2/200\n",
      "10394/10394 [==============================] - 24s 2ms/step - loss: 0.3698 - accuracy: 0.8255 - val_loss: 0.3671 - val_accuracy: 0.8274\n",
      "Epoch 3/200\n",
      "10394/10394 [==============================] - 24s 2ms/step - loss: 0.3676 - accuracy: 0.8270 - val_loss: 0.3681 - val_accuracy: 0.8274\n",
      "Epoch 4/200\n",
      "10394/10394 [==============================] - 24s 2ms/step - loss: 0.3672 - accuracy: 0.8273 - val_loss: 0.3672 - val_accuracy: 0.8274\n",
      "Epoch 5/200\n",
      "10394/10394 [==============================] - 24s 2ms/step - loss: 0.3681 - accuracy: 0.8259 - val_loss: 0.3681 - val_accuracy: 0.8274\n",
      "Epoch 6/200\n",
      "10394/10394 [==============================] - 24s 2ms/step - loss: 0.3684 - accuracy: 0.8259 - val_loss: 0.3670 - val_accuracy: 0.8274\n",
      "Epoch 7/200\n",
      "10394/10394 [==============================] - 24s 2ms/step - loss: 0.3664 - accuracy: 0.8275 - val_loss: 0.3670 - val_accuracy: 0.8274\n",
      "Epoch 8/200\n",
      "10394/10394 [==============================] - 24s 2ms/step - loss: 0.3667 - accuracy: 0.8272 - val_loss: 0.3672 - val_accuracy: 0.8274\n",
      "Epoch 9/200\n",
      "10394/10394 [==============================] - 25s 2ms/step - loss: 0.3684 - accuracy: 0.8256 - val_loss: 0.3669 - val_accuracy: 0.8274\n",
      "Epoch 10/200\n",
      "10394/10394 [==============================] - 25s 2ms/step - loss: 0.3669 - accuracy: 0.8270 - val_loss: 0.3668 - val_accuracy: 0.8274\n",
      "Epoch 11/200\n",
      "10394/10394 [==============================] - 25s 2ms/step - loss: 0.3685 - accuracy: 0.8259 - val_loss: 0.3668 - val_accuracy: 0.8274\n",
      "Epoch 12/200\n",
      "10394/10394 [==============================] - 25s 2ms/step - loss: 0.3664 - accuracy: 0.8272 - val_loss: 0.3670 - val_accuracy: 0.8274\n",
      "Epoch 13/200\n",
      "10394/10394 [==============================] - 25s 2ms/step - loss: 0.3679 - accuracy: 0.8263 - val_loss: 0.3671 - val_accuracy: 0.8274\n",
      "Epoch 14/200\n",
      "10394/10394 [==============================] - 25s 2ms/step - loss: 0.3681 - accuracy: 0.8260 - val_loss: 0.3671 - val_accuracy: 0.8274\n",
      "Epoch 15/200\n",
      "10394/10394 [==============================] - 25s 2ms/step - loss: 0.3676 - accuracy: 0.8264 - val_loss: 0.3671 - val_accuracy: 0.8274\n"
     ]
    }
   ],
   "source": [
    "history = model.fit(x_train, y_train, \n",
    "                    epochs=200, \n",
    "                    batch_size=50,\n",
    "                    validation_data=(x_valid, y_valid)\n",
    "                    ,callbacks=[early_stop, checkpoint])"
   ]
  },
  {
   "cell_type": "markdown",
   "metadata": {},
   "source": [
    "### 7.3. 테스트 데이터를 활용한 예측"
   ]
  },
  {
   "cell_type": "code",
   "execution_count": 38,
   "metadata": {},
   "outputs": [],
   "source": [
    "model.load_weights(filename)\n",
    "\n",
    "pred = model.predict(test_feature)"
   ]
  },
  {
   "cell_type": "markdown",
   "metadata": {},
   "source": [
    "## 단계8. 모델 평가 및 결과 해석"
   ]
  },
  {
   "cell_type": "markdown",
   "metadata": {},
   "source": [
    "### 8-1. loss 변화 그래프 생성"
   ]
  },
  {
   "cell_type": "code",
   "execution_count": 39,
   "metadata": {
    "scrolled": false
   },
   "outputs": [
    {
     "data": {
      "image/png": "[encoded data removed]",
      "text/plain": [
       "<Figure size 432x288 with 1 Axes>"
      ]
     },
     "metadata": {
      "needs_background": "light"
     },
     "output_type": "display_data"
    }
   ],
   "source": [
    "plt.plot(history.history['loss'], label='train')\n",
    "plt.plot(history.history['val_loss'], label='validation')\n",
    "plt.legend()\n",
    "plt.show()"
   ]
  },
  {
   "cell_type": "markdown",
   "metadata": {},
   "source": [
    "### 8-2. 테스트 데이터의 예측 결과 평가"
   ]
  },
  {
   "cell_type": "code",
   "execution_count": 40,
   "metadata": {},
   "outputs": [],
   "source": [
    "pred_df = pd.DataFrame(pred, columns=['TAG'])"
   ]
  },
  {
   "cell_type": "code",
   "execution_count": 41,
   "metadata": {},
   "outputs": [],
   "source": [
    "pred_df['TAG'] = pred_df['TAG'].apply(lambda x: 1 if x >= 0.5 else 0)"
   ]
  },
  {
   "cell_type": "code",
   "execution_count": 42,
   "metadata": {
    "scrolled": true
   },
   "outputs": [
    {
     "data": {
      "text/plain": [
       "1    150330\n",
       "0    100220\n",
       "Name: TAG, dtype: int64"
      ]
     },
     "execution_count": 42,
     "metadata": {},
     "output_type": "execute_result"
    }
   ],
   "source": [
    "pred_df['TAG'].value_counts()"
   ]
  },
  {
   "cell_type": "code",
   "execution_count": 43,
   "metadata": {},
   "outputs": [
    {
     "name": "stdout",
     "output_type": "stream",
     "text": [
      "[[  2276    664]\n",
      " [ 97944 149666]]\n"
     ]
    }
   ],
   "source": [
    "classify=confusion_matrix(test_label, pred_df)\n",
    "print(classify)"
   ]
  },
  {
   "cell_type": "code",
   "execution_count": 44,
   "metadata": {},
   "outputs": [
    {
     "name": "stdout",
     "output_type": "stream",
     "text": [
      "precision: 0.9956\n",
      "recall: 0.6044\n",
      "f1-score: 0.7522\n",
      "accuracy: 0.6064\n"
     ]
    }
   ],
   "source": [
    "p = precision_score(test_label, pred_df)\n",
    "print(\"precision: %0.4f\" %p)\n",
    "r = recall_score(test_label, pred_df)\n",
    "print(\"recall: %0.4f\" %r)\n",
    "f1 = f1_score(test_label, pred_df)\n",
    "print(\"f1-score: %0.4f\" %f1)\n",
    "acc = accuracy_score(test_label, pred_df)\n",
    "print(\"accuracy: %0.4f\" %acc)"
   ]
  },
  {
   "cell_type": "code",
   "execution_count": null,
   "metadata": {},
   "outputs": [],
   "source": []
  }
 ],
 "metadata": {
  "kernelspec": {
   "display_name": "Python 3",
   "language": "python",
   "name": "python3"
  },
  "language_info": {
   "codemirror_mode": {
    "name": "ipython",
    "version": 3
   },
   "file_extension": ".py",
   "mimetype": "text/x-python",
   "name": "python",
   "nbconvert_exporter": "python",
   "pygments_lexer": "ipython3",
   "version": "3.8.5"
  }
 },
 "nbformat": 4,
 "nbformat_minor": 2
}
